{
 "cells": [
  {
   "cell_type": "code",
   "execution_count": 1,
   "id": "09a0de91-dc4b-41ee-83e4-098eab8ec430",
   "metadata": {},
   "outputs": [],
   "source": [
    "import sys\n",
    "sys.path.append(\"../\")\n",
    "from plotting import CandlePlot\n",
    "import pandas as pd"
   ]
  },
  {
   "cell_type": "code",
   "execution_count": 2,
   "id": "d281890b-e1d2-4c76-8d79-a5be98464e47",
   "metadata": {},
   "outputs": [],
   "source": [
    "from technicals.patterns import apply_patterns"
   ]
  },
  {
   "cell_type": "code",
   "execution_count": 3,
   "id": "5dd95bd3-f865-4e26-93ba-c321ed97dbe6",
   "metadata": {},
   "outputs": [],
   "source": [
    "df = pd.read_pickle(\"../data/GBP_JPY_H1.pkl\")"
   ]
  },
  {
   "cell_type": "code",
   "execution_count": 4,
   "id": "cc97086d-d8fb-4320-8d40-a6d4faa28251",
   "metadata": {},
   "outputs": [],
   "source": [
    "df_an = df[['time', 'mid_o', 'mid_h', 'mid_l', 'mid_c']].copy()"
   ]
  },
  {
   "cell_type": "code",
   "execution_count": 5,
   "id": "790c6f00-6b6a-4d6c-a51b-10765eb9d85c",
   "metadata": {},
   "outputs": [
    {
     "data": {
      "text/html": [
       "<div>\n",
       "<style scoped>\n",
       "    .dataframe tbody tr th:only-of-type {\n",
       "        vertical-align: middle;\n",
       "    }\n",
       "\n",
       "    .dataframe tbody tr th {\n",
       "        vertical-align: top;\n",
       "    }\n",
       "\n",
       "    .dataframe thead th {\n",
       "        text-align: right;\n",
       "    }\n",
       "</style>\n",
       "<table border=\"1\" class=\"dataframe\">\n",
       "  <thead>\n",
       "    <tr style=\"text-align: right;\">\n",
       "      <th></th>\n",
       "      <th>time</th>\n",
       "      <th>mid_o</th>\n",
       "      <th>mid_h</th>\n",
       "      <th>mid_l</th>\n",
       "      <th>mid_c</th>\n",
       "    </tr>\n",
       "  </thead>\n",
       "  <tbody>\n",
       "    <tr>\n",
       "      <th>37219</th>\n",
       "      <td>2021-12-30 19:00:00+00:00</td>\n",
       "      <td>155.312</td>\n",
       "      <td>155.444</td>\n",
       "      <td>155.274</td>\n",
       "      <td>155.444</td>\n",
       "    </tr>\n",
       "    <tr>\n",
       "      <th>37220</th>\n",
       "      <td>2021-12-30 20:00:00+00:00</td>\n",
       "      <td>155.442</td>\n",
       "      <td>155.470</td>\n",
       "      <td>155.289</td>\n",
       "      <td>155.312</td>\n",
       "    </tr>\n",
       "    <tr>\n",
       "      <th>37221</th>\n",
       "      <td>2021-12-30 21:00:00+00:00</td>\n",
       "      <td>155.317</td>\n",
       "      <td>155.382</td>\n",
       "      <td>155.286</td>\n",
       "      <td>155.382</td>\n",
       "    </tr>\n",
       "    <tr>\n",
       "      <th>37222</th>\n",
       "      <td>2021-12-30 22:00:00+00:00</td>\n",
       "      <td>155.353</td>\n",
       "      <td>155.381</td>\n",
       "      <td>155.282</td>\n",
       "      <td>155.329</td>\n",
       "    </tr>\n",
       "    <tr>\n",
       "      <th>37223</th>\n",
       "      <td>2021-12-30 23:00:00+00:00</td>\n",
       "      <td>155.336</td>\n",
       "      <td>155.360</td>\n",
       "      <td>155.284</td>\n",
       "      <td>155.310</td>\n",
       "    </tr>\n",
       "  </tbody>\n",
       "</table>\n",
       "</div>"
      ],
      "text/plain": [
       "                           time    mid_o    mid_h    mid_l    mid_c\n",
       "37219 2021-12-30 19:00:00+00:00  155.312  155.444  155.274  155.444\n",
       "37220 2021-12-30 20:00:00+00:00  155.442  155.470  155.289  155.312\n",
       "37221 2021-12-30 21:00:00+00:00  155.317  155.382  155.286  155.382\n",
       "37222 2021-12-30 22:00:00+00:00  155.353  155.381  155.282  155.329\n",
       "37223 2021-12-30 23:00:00+00:00  155.336  155.360  155.284  155.310"
      ]
     },
     "execution_count": 5,
     "metadata": {},
     "output_type": "execute_result"
    }
   ],
   "source": [
    "df_an.tail()"
   ]
  },
  {
   "cell_type": "code",
   "execution_count": 6,
   "id": "23548d53-dc23-49b6-b2ff-7715da584892",
   "metadata": {},
   "outputs": [],
   "source": [
    "df_an = apply_patterns(df_an)"
   ]
  },
  {
   "cell_type": "code",
   "execution_count": 12,
   "id": "a41f4bcb-7d13-49db-b372-f6ed0905e9ca",
   "metadata": {},
   "outputs": [],
   "source": [
    "HANGING_MAN_BODY = 15.0\n",
    "HANGING_MAN_HEIGHT = 75.0\n",
    "SHOOTING_STAR_HEIGHT = 25.0\n",
    "SPINNING_TOP_MIN = 40.0\n",
    "SPINNING_TOP_MAX = 60.0\n",
    "MARUBOZU = 98.0\n",
    "ENGULFING_FACTOR = 1.1\n",
    "\n",
    "apply_marubozu = lambda x: x.body_perc > MARUBOZU\n",
    "def apply_hanging_man(row):\n",
    "    if row.body_bottom_perc > HANGING_MAN_HEIGHT:\n",
    "        if row.body_perc < HANGING_MAN_BODY:\n",
    "            return True\n",
    "    return False\n",
    "\n",
    "def apply_shooting_star(row):\n",
    "    if row.body_top_perc < SHOOTING_STAR_HEIGHT:\n",
    "        if row.body_perc < HANGING_MAN_BODY:\n",
    "            return True\n",
    "    return False\n",
    "\n",
    "def apply_spinning_top(row):\n",
    "    if row.body_top_perc < SPINNING_TOP_MAX and row.body_bottom_perc > SPINNING_TOP_MIN:\n",
    "        if row.body_perc < HANGING_MAN_BODY:\n",
    "            return True\n",
    "    return False\n",
    "\n",
    "def apply_engulfing(row):\n",
    "    if row.direction != row.direction_prev:\n",
    "        if row.body_size > row.body_size_prev * ENGULFING_FACTOR:\n",
    "            return True\n",
    "    return False\n",
    "\n",
    "TWEEZER_BODY = 15.0\n",
    "TWEEZER_HL = 0.01\n",
    "TWEEZER_TOP_BODY = 40.0\n",
    "TWEEZER_BOTTOM_BODY = 60.0\n",
    "\n",
    "def apply_tweezer_top(row):\n",
    "    if abs(row.body_size_change) < TWEEZER_BODY:\n",
    "        if row.direction == -1 and row.direction != row.direction_prev:\n",
    "            if abs(row.low_change) < TWEEZER_HL and abs(row.high_change) < TWEEZER_HL:\n",
    "                if row.body_top_perc < TWEEZER_TOP_BODY:\n",
    "                    return True\n",
    "    return False\n",
    "\n",
    "def apply_tweezer_bottom(row):\n",
    "    if abs(row.body_size_change) < TWEEZER_BODY:\n",
    "        if row.direction == 1 and row.direction != row.direction_prev:\n",
    "            if abs(row.low_change) < TWEEZER_HL and abs(row.high_change) < TWEEZER_HL:\n",
    "                if row.body_bottom_perc > TWEEZER_BOTTOM_BODY:\n",
    "                    return True\n",
    "    return False\n",
    "\n",
    "MORNING_STAR_PREV2_BODY = 90.0\n",
    "MORNING_STAR_PREV_BODY = 10.0\n",
    "\n",
    "def apply_morning_star(row, direction=1):\n",
    "    if row.body_perc_prev_2 > MORNING_STAR_PREV2_BODY:\n",
    "        if row.body_perc_prev < MORNING_STAR_PREV_BODY:\n",
    "            if row.direction == direction and row.direction_prev_2 != direction:\n",
    "                if direction == 1:\n",
    "                    if row.mid_c > row.midpoint_prev_2:\n",
    "                        return True\n",
    "                else:\n",
    "                    if row.mid_c < row.midpoint_prev_2:\n",
    "                        return True\n",
    "    return False"
   ]
  },
  {
   "cell_type": "code",
   "execution_count": 13,
   "id": "e62f2015-1540-4ea8-b8b7-3bf65e6fd106",
   "metadata": {},
   "outputs": [],
   "source": [
    "df_an['body_size_prev'] = df_an.body_size.shift(1)\n",
    "df_an['direction_prev'] = df_an.direction.shift(1)\n",
    "df_an['direction_prev_2'] = df_an.direction.shift(2)\n",
    "df_an['body_perc_prev'] = df_an.body_perc.shift(1)\n",
    "df_an['body_perc_prev_2'] = df_an.body_perc.shift(2)\n",
    "df_an['HANGING_MAN'] = df_an.apply(apply_hanging_man, axis=1)\n",
    "df_an['SHOOTING_STAR'] = df_an.apply(apply_shooting_star, axis=1)\n",
    "df_an['SPINNING_TOP'] = df_an.apply(apply_spinning_top, axis=1)\n",
    "df_an['MARUBOZU'] = df_an.apply(apply_marubozu, axis=1)\n",
    "df_an['ENGULFING'] = df_an.apply(apply_engulfing, axis=1)\n",
    "df_an['TWEEZER_TOP'] = df_an.apply(apply_tweezer_top, axis=1)\n",
    "df_an['TWEEZER_BOTTOM'] = df_an.apply(apply_tweezer_bottom, axis=1)\n",
    "df_an['MORNING_STAR'] = df_an.apply(apply_morning_star, axis=1)\n",
    "df_an['EVENING_STAR'] = df_an.apply(apply_morning_star, axis=1, direction = -1)"
   ]
  },
  {
   "cell_type": "code",
   "execution_count": 14,
   "id": "08506d94-d00b-4b95-bd65-ffef4c56294e",
   "metadata": {},
   "outputs": [],
   "source": [
    "import plotly.graph_objects as go"
   ]
  },
  {
   "cell_type": "code",
   "execution_count": 18,
   "id": "0b511f58-47e4-4d0c-a9a1-420745e332dc",
   "metadata": {},
   "outputs": [
    {
     "data": {
      "application/vnd.plotly.v1+json": {
       "config": {
        "plotlyServerURL": "https://plot.ly"
       },
       "data": [
        {
         "close": [
          131.792,
          131.332,
          130.536,
          131.014,
          131.876,
          131.264,
          132.19,
          132.044,
          132.066,
          132.235,
          131.2,
          131.319,
          131.424,
          131.078,
          131.293,
          131.286,
          131.284,
          131.092,
          130.715,
          131.853,
          131.26,
          131.167,
          131.348,
          131.339,
          131.452,
          131.838,
          132.396,
          132.842,
          133.231,
          133.009,
          132.774,
          133.76,
          133.752,
          133.091,
          132.924,
          133.068,
          132.814,
          132.378,
          132.824,
          133.238,
          132.76,
          133.066,
          132.842,
          132.873,
          132.462,
          132.916,
          133.36,
          132.998,
          133.273,
          132.828,
          132.85,
          133.673,
          134.043,
          134.064,
          134.502,
          134.508,
          134.382,
          134.125,
          133.527,
          133.8,
          133.699,
          133.094,
          132.938,
          132.878,
          133.381,
          133.758,
          133.682,
          133.398,
          133.322,
          133.582,
          133.985,
          134.205,
          134.242,
          133.536,
          134.194,
          133.908,
          133.678,
          133.704,
          133.772,
          133.81,
          133.858,
          133.536,
          133.783,
          133.684,
          133.776,
          133.79,
          133.934,
          133.793,
          133.544,
          133.562,
          133.438,
          133.546,
          133.604,
          133.96,
          134.246,
          134.092,
          134.318,
          134.294,
          133.894,
          133.904
         ],
         "decreasing": {
          "fillcolor": "#CC2E3C",
          "line": {
           "color": "#FF3A4C"
          }
         },
         "high": [
          132.456,
          132.012,
          131.374,
          131.088,
          132.027,
          132.01,
          132.258,
          132.478,
          132.528,
          132.235,
          132.224,
          131.395,
          131.624,
          131.421,
          131.296,
          131.451,
          131.481,
          131.449,
          131.172,
          131.877,
          132.04,
          131.458,
          131.458,
          131.721,
          131.564,
          131.862,
          132.532,
          132.918,
          133.476,
          133.332,
          133.12,
          133.828,
          133.815,
          133.778,
          133.309,
          133.346,
          133.158,
          132.84,
          132.948,
          133.4,
          133.36,
          133.074,
          133.248,
          133.131,
          132.984,
          133.18,
          133.496,
          133.498,
          133.46,
          133.408,
          132.939,
          133.714,
          134.392,
          134.28,
          134.558,
          134.726,
          134.768,
          134.259,
          134.24,
          133.933,
          134.185,
          133.784,
          133.149,
          133.049,
          133.422,
          133.9,
          133.878,
          133.874,
          133.712,
          133.716,
          134.026,
          134.396,
          134.418,
          134.259,
          134.296,
          134.274,
          133.928,
          133.772,
          133.874,
          133.968,
          134.138,
          133.858,
          133.83,
          133.856,
          134.125,
          134.158,
          133.946,
          133.952,
          133.849,
          133.697,
          133.76,
          133.66,
          133.747,
          134.046,
          134.333,
          134.352,
          134.443,
          134.504,
          134.627,
          134.264
         ],
         "increasing": {
          "fillcolor": "#24A06B",
          "line": {
           "color": "#2EC886"
          }
         },
         "line": {
          "width": 1
         },
         "low": [
          131.698,
          131.126,
          130.392,
          129.865,
          130.901,
          131.141,
          131.19,
          131.888,
          132.04,
          131.993,
          131.088,
          130.568,
          131.22,
          130.829,
          130.702,
          131.051,
          131.15,
          130.983,
          130.696,
          130.7,
          131.179,
          130.626,
          130.653,
          131.22,
          130.945,
          131.285,
          131.577,
          132.032,
          132.734,
          132.866,
          132.49,
          132.743,
          133.296,
          133.044,
          132.695,
          132.832,
          132.626,
          132.318,
          132.136,
          132.642,
          132.646,
          132.642,
          132.698,
          132.706,
          132.165,
          132.431,
          132.842,
          132.465,
          132.854,
          132.768,
          132.568,
          132.779,
          133.475,
          133.72,
          133.938,
          134.354,
          134.295,
          133.848,
          133.472,
          133.518,
          133.542,
          133.046,
          132.804,
          132.76,
          132.837,
          133.3,
          133.492,
          133.159,
          133.318,
          133.019,
          133.539,
          133.741,
          134.1,
          133.518,
          133.405,
          133.794,
          133.572,
          133.5,
          133.485,
          133.722,
          133.46,
          133.52,
          133.482,
          133.503,
          133.064,
          133.638,
          133.751,
          133.75,
          133.46,
          133.504,
          133.386,
          133.226,
          133.373,
          133.606,
          133.794,
          133.902,
          134.02,
          134.068,
          133.692,
          133.695
         ],
         "opacity": 1,
         "open": [
          132.212,
          131.795,
          131.334,
          130.538,
          131.012,
          131.874,
          131.26,
          132.192,
          132.048,
          132.066,
          132.224,
          131.196,
          131.323,
          131.421,
          131.08,
          131.288,
          131.284,
          131.288,
          131.096,
          130.712,
          131.85,
          131.262,
          131.17,
          131.346,
          131.334,
          131.454,
          131.835,
          132.398,
          132.845,
          133.233,
          133.011,
          132.772,
          133.758,
          133.752,
          133.087,
          132.928,
          133.072,
          132.81,
          132.375,
          132.822,
          133.242,
          132.757,
          133.069,
          132.846,
          132.878,
          132.465,
          132.919,
          133.362,
          133,
          133.276,
          132.825,
          132.847,
          133.67,
          134.04,
          134.062,
          134.505,
          134.512,
          133.905,
          134.109,
          133.522,
          133.804,
          133.702,
          133.09,
          132.936,
          132.875,
          133.378,
          133.756,
          133.686,
          133.396,
          133.32,
          133.579,
          133.982,
          134.208,
          134.24,
          133.538,
          134.192,
          133.906,
          133.68,
          133.702,
          133.774,
          133.812,
          133.858,
          133.54,
          133.78,
          133.688,
          133.78,
          133.794,
          133.932,
          133.79,
          133.546,
          133.566,
          133.44,
          133.548,
          133.606,
          133.958,
          134.248,
          134.094,
          134.315,
          134.299,
          133.897
         ],
         "type": "candlestick",
         "x": [
          "s20-03-25 12:00",
          "s20-03-25 13:00",
          "s20-03-25 14:00",
          "s20-03-25 15:00",
          "s20-03-25 16:00",
          "s20-03-25 17:00",
          "s20-03-25 18:00",
          "s20-03-25 19:00",
          "s20-03-25 20:00",
          "s20-03-25 21:00",
          "s20-03-25 22:00",
          "s20-03-25 23:00",
          "s20-03-26 00:00",
          "s20-03-26 01:00",
          "s20-03-26 02:00",
          "s20-03-26 03:00",
          "s20-03-26 04:00",
          "s20-03-26 05:00",
          "s20-03-26 06:00",
          "s20-03-26 07:00",
          "s20-03-26 08:00",
          "s20-03-26 09:00",
          "s20-03-26 10:00",
          "s20-03-26 11:00",
          "s20-03-26 12:00",
          "s20-03-26 13:00",
          "s20-03-26 14:00",
          "s20-03-26 15:00",
          "s20-03-26 16:00",
          "s20-03-26 17:00",
          "s20-03-26 18:00",
          "s20-03-26 19:00",
          "s20-03-26 20:00",
          "s20-03-26 21:00",
          "s20-03-26 22:00",
          "s20-03-26 23:00",
          "s20-03-27 00:00",
          "s20-03-27 01:00",
          "s20-03-27 02:00",
          "s20-03-27 03:00",
          "s20-03-27 04:00",
          "s20-03-27 05:00",
          "s20-03-27 06:00",
          "s20-03-27 07:00",
          "s20-03-27 08:00",
          "s20-03-27 09:00",
          "s20-03-27 10:00",
          "s20-03-27 11:00",
          "s20-03-27 12:00",
          "s20-03-27 13:00",
          "s20-03-27 14:00",
          "s20-03-27 15:00",
          "s20-03-27 16:00",
          "s20-03-27 17:00",
          "s20-03-27 18:00",
          "s20-03-27 19:00",
          "s20-03-27 20:00",
          "s20-03-29 21:00",
          "s20-03-29 22:00",
          "s20-03-29 23:00",
          "s20-03-30 00:00",
          "s20-03-30 01:00",
          "s20-03-30 02:00",
          "s20-03-30 03:00",
          "s20-03-30 04:00",
          "s20-03-30 05:00",
          "s20-03-30 06:00",
          "s20-03-30 07:00",
          "s20-03-30 08:00",
          "s20-03-30 09:00",
          "s20-03-30 10:00",
          "s20-03-30 11:00",
          "s20-03-30 12:00",
          "s20-03-30 13:00",
          "s20-03-30 14:00",
          "s20-03-30 15:00",
          "s20-03-30 16:00",
          "s20-03-30 17:00",
          "s20-03-30 18:00",
          "s20-03-30 19:00",
          "s20-03-30 20:00",
          "s20-03-30 21:00",
          "s20-03-30 22:00",
          "s20-03-30 23:00",
          "s20-03-31 00:00",
          "s20-03-31 01:00",
          "s20-03-31 02:00",
          "s20-03-31 03:00",
          "s20-03-31 04:00",
          "s20-03-31 05:00",
          "s20-03-31 06:00",
          "s20-03-31 07:00",
          "s20-03-31 08:00",
          "s20-03-31 09:00",
          "s20-03-31 10:00",
          "s20-03-31 11:00",
          "s20-03-31 12:00",
          "s20-03-31 13:00",
          "s20-03-31 14:00",
          "s20-03-31 15:00"
         ]
        },
        {
         "close": [
          133.091
         ],
         "decreasing": {
          "fillcolor": "#0066FF",
          "line": {
           "color": "#0066FF"
          }
         },
         "high": [
          133.778
         ],
         "increasing": {
          "fillcolor": "#0066FF",
          "line": {
           "color": "#0066FF"
          }
         },
         "line": {
          "width": 1
         },
         "low": [
          133.044
         ],
         "opacity": 1,
         "open": [
          133.752
         ],
         "type": "candlestick",
         "x": [
          "s20-03-26 21:00"
         ]
        }
       ],
       "layout": {
        "font": {
         "color": "#e1e1e1",
         "size": 8
        },
        "height": 400,
        "margin": {
         "b": 10,
         "l": 10,
         "r": 10,
         "t": 10
        },
        "paper_bgcolor": "#2c303c",
        "plot_bgcolor": "#2c303c",
        "template": {
         "data": {
          "bar": [
           {
            "error_x": {
             "color": "#2a3f5f"
            },
            "error_y": {
             "color": "#2a3f5f"
            },
            "marker": {
             "line": {
              "color": "#E5ECF6",
              "width": 0.5
             },
             "pattern": {
              "fillmode": "overlay",
              "size": 10,
              "solidity": 0.2
             }
            },
            "type": "bar"
           }
          ],
          "barpolar": [
           {
            "marker": {
             "line": {
              "color": "#E5ECF6",
              "width": 0.5
             },
             "pattern": {
              "fillmode": "overlay",
              "size": 10,
              "solidity": 0.2
             }
            },
            "type": "barpolar"
           }
          ],
          "carpet": [
           {
            "aaxis": {
             "endlinecolor": "#2a3f5f",
             "gridcolor": "white",
             "linecolor": "white",
             "minorgridcolor": "white",
             "startlinecolor": "#2a3f5f"
            },
            "baxis": {
             "endlinecolor": "#2a3f5f",
             "gridcolor": "white",
             "linecolor": "white",
             "minorgridcolor": "white",
             "startlinecolor": "#2a3f5f"
            },
            "type": "carpet"
           }
          ],
          "choropleth": [
           {
            "colorbar": {
             "outlinewidth": 0,
             "ticks": ""
            },
            "type": "choropleth"
           }
          ],
          "contour": [
           {
            "colorbar": {
             "outlinewidth": 0,
             "ticks": ""
            },
            "colorscale": [
             [
              0,
              "#0d0887"
             ],
             [
              0.1111111111111111,
              "#46039f"
             ],
             [
              0.2222222222222222,
              "#7201a8"
             ],
             [
              0.3333333333333333,
              "#9c179e"
             ],
             [
              0.4444444444444444,
              "#bd3786"
             ],
             [
              0.5555555555555556,
              "#d8576b"
             ],
             [
              0.6666666666666666,
              "#ed7953"
             ],
             [
              0.7777777777777778,
              "#fb9f3a"
             ],
             [
              0.8888888888888888,
              "#fdca26"
             ],
             [
              1,
              "#f0f921"
             ]
            ],
            "type": "contour"
           }
          ],
          "contourcarpet": [
           {
            "colorbar": {
             "outlinewidth": 0,
             "ticks": ""
            },
            "type": "contourcarpet"
           }
          ],
          "heatmap": [
           {
            "colorbar": {
             "outlinewidth": 0,
             "ticks": ""
            },
            "colorscale": [
             [
              0,
              "#0d0887"
             ],
             [
              0.1111111111111111,
              "#46039f"
             ],
             [
              0.2222222222222222,
              "#7201a8"
             ],
             [
              0.3333333333333333,
              "#9c179e"
             ],
             [
              0.4444444444444444,
              "#bd3786"
             ],
             [
              0.5555555555555556,
              "#d8576b"
             ],
             [
              0.6666666666666666,
              "#ed7953"
             ],
             [
              0.7777777777777778,
              "#fb9f3a"
             ],
             [
              0.8888888888888888,
              "#fdca26"
             ],
             [
              1,
              "#f0f921"
             ]
            ],
            "type": "heatmap"
           }
          ],
          "heatmapgl": [
           {
            "colorbar": {
             "outlinewidth": 0,
             "ticks": ""
            },
            "colorscale": [
             [
              0,
              "#0d0887"
             ],
             [
              0.1111111111111111,
              "#46039f"
             ],
             [
              0.2222222222222222,
              "#7201a8"
             ],
             [
              0.3333333333333333,
              "#9c179e"
             ],
             [
              0.4444444444444444,
              "#bd3786"
             ],
             [
              0.5555555555555556,
              "#d8576b"
             ],
             [
              0.6666666666666666,
              "#ed7953"
             ],
             [
              0.7777777777777778,
              "#fb9f3a"
             ],
             [
              0.8888888888888888,
              "#fdca26"
             ],
             [
              1,
              "#f0f921"
             ]
            ],
            "type": "heatmapgl"
           }
          ],
          "histogram": [
           {
            "marker": {
             "pattern": {
              "fillmode": "overlay",
              "size": 10,
              "solidity": 0.2
             }
            },
            "type": "histogram"
           }
          ],
          "histogram2d": [
           {
            "colorbar": {
             "outlinewidth": 0,
             "ticks": ""
            },
            "colorscale": [
             [
              0,
              "#0d0887"
             ],
             [
              0.1111111111111111,
              "#46039f"
             ],
             [
              0.2222222222222222,
              "#7201a8"
             ],
             [
              0.3333333333333333,
              "#9c179e"
             ],
             [
              0.4444444444444444,
              "#bd3786"
             ],
             [
              0.5555555555555556,
              "#d8576b"
             ],
             [
              0.6666666666666666,
              "#ed7953"
             ],
             [
              0.7777777777777778,
              "#fb9f3a"
             ],
             [
              0.8888888888888888,
              "#fdca26"
             ],
             [
              1,
              "#f0f921"
             ]
            ],
            "type": "histogram2d"
           }
          ],
          "histogram2dcontour": [
           {
            "colorbar": {
             "outlinewidth": 0,
             "ticks": ""
            },
            "colorscale": [
             [
              0,
              "#0d0887"
             ],
             [
              0.1111111111111111,
              "#46039f"
             ],
             [
              0.2222222222222222,
              "#7201a8"
             ],
             [
              0.3333333333333333,
              "#9c179e"
             ],
             [
              0.4444444444444444,
              "#bd3786"
             ],
             [
              0.5555555555555556,
              "#d8576b"
             ],
             [
              0.6666666666666666,
              "#ed7953"
             ],
             [
              0.7777777777777778,
              "#fb9f3a"
             ],
             [
              0.8888888888888888,
              "#fdca26"
             ],
             [
              1,
              "#f0f921"
             ]
            ],
            "type": "histogram2dcontour"
           }
          ],
          "mesh3d": [
           {
            "colorbar": {
             "outlinewidth": 0,
             "ticks": ""
            },
            "type": "mesh3d"
           }
          ],
          "parcoords": [
           {
            "line": {
             "colorbar": {
              "outlinewidth": 0,
              "ticks": ""
             }
            },
            "type": "parcoords"
           }
          ],
          "pie": [
           {
            "automargin": true,
            "type": "pie"
           }
          ],
          "scatter": [
           {
            "fillpattern": {
             "fillmode": "overlay",
             "size": 10,
             "solidity": 0.2
            },
            "type": "scatter"
           }
          ],
          "scatter3d": [
           {
            "line": {
             "colorbar": {
              "outlinewidth": 0,
              "ticks": ""
             }
            },
            "marker": {
             "colorbar": {
              "outlinewidth": 0,
              "ticks": ""
             }
            },
            "type": "scatter3d"
           }
          ],
          "scattercarpet": [
           {
            "marker": {
             "colorbar": {
              "outlinewidth": 0,
              "ticks": ""
             }
            },
            "type": "scattercarpet"
           }
          ],
          "scattergeo": [
           {
            "marker": {
             "colorbar": {
              "outlinewidth": 0,
              "ticks": ""
             }
            },
            "type": "scattergeo"
           }
          ],
          "scattergl": [
           {
            "marker": {
             "colorbar": {
              "outlinewidth": 0,
              "ticks": ""
             }
            },
            "type": "scattergl"
           }
          ],
          "scattermapbox": [
           {
            "marker": {
             "colorbar": {
              "outlinewidth": 0,
              "ticks": ""
             }
            },
            "type": "scattermapbox"
           }
          ],
          "scatterpolar": [
           {
            "marker": {
             "colorbar": {
              "outlinewidth": 0,
              "ticks": ""
             }
            },
            "type": "scatterpolar"
           }
          ],
          "scatterpolargl": [
           {
            "marker": {
             "colorbar": {
              "outlinewidth": 0,
              "ticks": ""
             }
            },
            "type": "scatterpolargl"
           }
          ],
          "scatterternary": [
           {
            "marker": {
             "colorbar": {
              "outlinewidth": 0,
              "ticks": ""
             }
            },
            "type": "scatterternary"
           }
          ],
          "surface": [
           {
            "colorbar": {
             "outlinewidth": 0,
             "ticks": ""
            },
            "colorscale": [
             [
              0,
              "#0d0887"
             ],
             [
              0.1111111111111111,
              "#46039f"
             ],
             [
              0.2222222222222222,
              "#7201a8"
             ],
             [
              0.3333333333333333,
              "#9c179e"
             ],
             [
              0.4444444444444444,
              "#bd3786"
             ],
             [
              0.5555555555555556,
              "#d8576b"
             ],
             [
              0.6666666666666666,
              "#ed7953"
             ],
             [
              0.7777777777777778,
              "#fb9f3a"
             ],
             [
              0.8888888888888888,
              "#fdca26"
             ],
             [
              1,
              "#f0f921"
             ]
            ],
            "type": "surface"
           }
          ],
          "table": [
           {
            "cells": {
             "fill": {
              "color": "#EBF0F8"
             },
             "line": {
              "color": "white"
             }
            },
            "header": {
             "fill": {
              "color": "#C8D4E3"
             },
             "line": {
              "color": "white"
             }
            },
            "type": "table"
           }
          ]
         },
         "layout": {
          "annotationdefaults": {
           "arrowcolor": "#2a3f5f",
           "arrowhead": 0,
           "arrowwidth": 1
          },
          "autotypenumbers": "strict",
          "coloraxis": {
           "colorbar": {
            "outlinewidth": 0,
            "ticks": ""
           }
          },
          "colorscale": {
           "diverging": [
            [
             0,
             "#8e0152"
            ],
            [
             0.1,
             "#c51b7d"
            ],
            [
             0.2,
             "#de77ae"
            ],
            [
             0.3,
             "#f1b6da"
            ],
            [
             0.4,
             "#fde0ef"
            ],
            [
             0.5,
             "#f7f7f7"
            ],
            [
             0.6,
             "#e6f5d0"
            ],
            [
             0.7,
             "#b8e186"
            ],
            [
             0.8,
             "#7fbc41"
            ],
            [
             0.9,
             "#4d9221"
            ],
            [
             1,
             "#276419"
            ]
           ],
           "sequential": [
            [
             0,
             "#0d0887"
            ],
            [
             0.1111111111111111,
             "#46039f"
            ],
            [
             0.2222222222222222,
             "#7201a8"
            ],
            [
             0.3333333333333333,
             "#9c179e"
            ],
            [
             0.4444444444444444,
             "#bd3786"
            ],
            [
             0.5555555555555556,
             "#d8576b"
            ],
            [
             0.6666666666666666,
             "#ed7953"
            ],
            [
             0.7777777777777778,
             "#fb9f3a"
            ],
            [
             0.8888888888888888,
             "#fdca26"
            ],
            [
             1,
             "#f0f921"
            ]
           ],
           "sequentialminus": [
            [
             0,
             "#0d0887"
            ],
            [
             0.1111111111111111,
             "#46039f"
            ],
            [
             0.2222222222222222,
             "#7201a8"
            ],
            [
             0.3333333333333333,
             "#9c179e"
            ],
            [
             0.4444444444444444,
             "#bd3786"
            ],
            [
             0.5555555555555556,
             "#d8576b"
            ],
            [
             0.6666666666666666,
             "#ed7953"
            ],
            [
             0.7777777777777778,
             "#fb9f3a"
            ],
            [
             0.8888888888888888,
             "#fdca26"
            ],
            [
             1,
             "#f0f921"
            ]
           ]
          },
          "colorway": [
           "#636efa",
           "#EF553B",
           "#00cc96",
           "#ab63fa",
           "#FFA15A",
           "#19d3f3",
           "#FF6692",
           "#B6E880",
           "#FF97FF",
           "#FECB52"
          ],
          "font": {
           "color": "#2a3f5f"
          },
          "geo": {
           "bgcolor": "white",
           "lakecolor": "white",
           "landcolor": "#E5ECF6",
           "showlakes": true,
           "showland": true,
           "subunitcolor": "white"
          },
          "hoverlabel": {
           "align": "left"
          },
          "hovermode": "closest",
          "mapbox": {
           "style": "light"
          },
          "paper_bgcolor": "white",
          "plot_bgcolor": "#E5ECF6",
          "polar": {
           "angularaxis": {
            "gridcolor": "white",
            "linecolor": "white",
            "ticks": ""
           },
           "bgcolor": "#E5ECF6",
           "radialaxis": {
            "gridcolor": "white",
            "linecolor": "white",
            "ticks": ""
           }
          },
          "scene": {
           "xaxis": {
            "backgroundcolor": "#E5ECF6",
            "gridcolor": "white",
            "gridwidth": 2,
            "linecolor": "white",
            "showbackground": true,
            "ticks": "",
            "zerolinecolor": "white"
           },
           "yaxis": {
            "backgroundcolor": "#E5ECF6",
            "gridcolor": "white",
            "gridwidth": 2,
            "linecolor": "white",
            "showbackground": true,
            "ticks": "",
            "zerolinecolor": "white"
           },
           "zaxis": {
            "backgroundcolor": "#E5ECF6",
            "gridcolor": "white",
            "gridwidth": 2,
            "linecolor": "white",
            "showbackground": true,
            "ticks": "",
            "zerolinecolor": "white"
           }
          },
          "shapedefaults": {
           "line": {
            "color": "#2a3f5f"
           }
          },
          "ternary": {
           "aaxis": {
            "gridcolor": "white",
            "linecolor": "white",
            "ticks": ""
           },
           "baxis": {
            "gridcolor": "white",
            "linecolor": "white",
            "ticks": ""
           },
           "bgcolor": "#E5ECF6",
           "caxis": {
            "gridcolor": "white",
            "linecolor": "white",
            "ticks": ""
           }
          },
          "title": {
           "x": 0.05
          },
          "xaxis": {
           "automargin": true,
           "gridcolor": "white",
           "linecolor": "white",
           "ticks": "",
           "title": {
            "standoff": 15
           },
           "zerolinecolor": "white",
           "zerolinewidth": 2
          },
          "yaxis": {
           "automargin": true,
           "gridcolor": "white",
           "linecolor": "white",
           "ticks": "",
           "title": {
            "standoff": 15
           },
           "zerolinecolor": "white",
           "zerolinewidth": 2
          }
         }
        },
        "width": 825,
        "xaxis": {
         "anchor": "y",
         "autorange": true,
         "domain": [
          0,
          0.94
         ],
         "gridcolor": "#1f292f",
         "nticks": 5,
         "range": [
          -0.5,
          99.5
         ],
         "rangeslider": {
          "visible": false,
          "yaxis": {}
         },
         "type": "category"
        },
        "yaxis": {
         "anchor": "x",
         "autorange": true,
         "domain": [
          0,
          1
         ],
         "gridcolor": "#1f292f",
         "range": [
          129.59261111111113,
          135.04038888888888
         ]
        },
        "yaxis2": {
         "anchor": "x",
         "gridcolor": "#1f292f",
         "overlaying": "y",
         "side": "right"
        }
       }
      },
      "text/html": [
       "<div>                            <div id=\"d5b8a097-716d-4d80-a712-89b4165674fd\" class=\"plotly-graph-div\" style=\"height:400px; width:825px;\"></div>            <script type=\"text/javascript\">                require([\"plotly\"], function(Plotly) {                    window.PLOTLYENV=window.PLOTLYENV || {};                                    if (document.getElementById(\"d5b8a097-716d-4d80-a712-89b4165674fd\")) {                    Plotly.newPlot(                        \"d5b8a097-716d-4d80-a712-89b4165674fd\",                        [{\"close\":[131.792,131.332,130.536,131.014,131.876,131.264,132.19,132.044,132.066,132.235,131.2,131.319,131.424,131.078,131.293,131.286,131.284,131.092,130.715,131.853,131.26,131.167,131.348,131.339,131.452,131.838,132.396,132.842,133.231,133.009,132.774,133.76,133.752,133.091,132.924,133.068,132.814,132.378,132.824,133.238,132.76,133.066,132.842,132.873,132.462,132.916,133.36,132.998,133.273,132.828,132.85,133.673,134.043,134.064,134.502,134.508,134.382,134.125,133.527,133.8,133.699,133.094,132.938,132.878,133.381,133.758,133.682,133.398,133.322,133.582,133.985,134.205,134.242,133.536,134.194,133.908,133.678,133.704,133.772,133.81,133.858,133.536,133.783,133.684,133.776,133.79,133.934,133.793,133.544,133.562,133.438,133.546,133.604,133.96,134.246,134.092,134.318,134.294,133.894,133.904],\"decreasing\":{\"fillcolor\":\"#CC2E3C\",\"line\":{\"color\":\"#FF3A4C\"}},\"high\":[132.456,132.012,131.374,131.088,132.027,132.01,132.258,132.478,132.528,132.235,132.224,131.395,131.624,131.421,131.296,131.451,131.481,131.449,131.172,131.877,132.04,131.458,131.458,131.721,131.564,131.862,132.532,132.918,133.476,133.332,133.12,133.828,133.815,133.778,133.309,133.346,133.158,132.84,132.948,133.4,133.36,133.074,133.248,133.131,132.984,133.18,133.496,133.498,133.46,133.408,132.939,133.714,134.392,134.28,134.558,134.726,134.768,134.259,134.24,133.933,134.185,133.784,133.149,133.049,133.422,133.9,133.878,133.874,133.712,133.716,134.026,134.396,134.418,134.259,134.296,134.274,133.928,133.772,133.874,133.968,134.138,133.858,133.83,133.856,134.125,134.158,133.946,133.952,133.849,133.697,133.76,133.66,133.747,134.046,134.333,134.352,134.443,134.504,134.627,134.264],\"increasing\":{\"fillcolor\":\"#24A06B\",\"line\":{\"color\":\"#2EC886\"}},\"line\":{\"width\":1},\"low\":[131.698,131.126,130.392,129.865,130.901,131.141,131.19,131.888,132.04,131.993,131.088,130.568,131.22,130.829,130.702,131.051,131.15,130.983,130.696,130.7,131.179,130.626,130.653,131.22,130.945,131.285,131.577,132.032,132.734,132.866,132.49,132.743,133.296,133.044,132.695,132.832,132.626,132.318,132.136,132.642,132.646,132.642,132.698,132.706,132.165,132.431,132.842,132.465,132.854,132.768,132.568,132.779,133.475,133.72,133.938,134.354,134.295,133.848,133.472,133.518,133.542,133.046,132.804,132.76,132.837,133.3,133.492,133.159,133.318,133.019,133.539,133.741,134.1,133.518,133.405,133.794,133.572,133.5,133.485,133.722,133.46,133.52,133.482,133.503,133.064,133.638,133.751,133.75,133.46,133.504,133.386,133.226,133.373,133.606,133.794,133.902,134.02,134.068,133.692,133.695],\"opacity\":1,\"open\":[132.212,131.795,131.334,130.538,131.012,131.874,131.26,132.192,132.048,132.066,132.224,131.196,131.323,131.421,131.08,131.288,131.284,131.288,131.096,130.712,131.85,131.262,131.17,131.346,131.334,131.454,131.835,132.398,132.845,133.233,133.011,132.772,133.758,133.752,133.087,132.928,133.072,132.81,132.375,132.822,133.242,132.757,133.069,132.846,132.878,132.465,132.919,133.362,133.0,133.276,132.825,132.847,133.67,134.04,134.062,134.505,134.512,133.905,134.109,133.522,133.804,133.702,133.09,132.936,132.875,133.378,133.756,133.686,133.396,133.32,133.579,133.982,134.208,134.24,133.538,134.192,133.906,133.68,133.702,133.774,133.812,133.858,133.54,133.78,133.688,133.78,133.794,133.932,133.79,133.546,133.566,133.44,133.548,133.606,133.958,134.248,134.094,134.315,134.299,133.897],\"x\":[\"s20-03-25 12:00\",\"s20-03-25 13:00\",\"s20-03-25 14:00\",\"s20-03-25 15:00\",\"s20-03-25 16:00\",\"s20-03-25 17:00\",\"s20-03-25 18:00\",\"s20-03-25 19:00\",\"s20-03-25 20:00\",\"s20-03-25 21:00\",\"s20-03-25 22:00\",\"s20-03-25 23:00\",\"s20-03-26 00:00\",\"s20-03-26 01:00\",\"s20-03-26 02:00\",\"s20-03-26 03:00\",\"s20-03-26 04:00\",\"s20-03-26 05:00\",\"s20-03-26 06:00\",\"s20-03-26 07:00\",\"s20-03-26 08:00\",\"s20-03-26 09:00\",\"s20-03-26 10:00\",\"s20-03-26 11:00\",\"s20-03-26 12:00\",\"s20-03-26 13:00\",\"s20-03-26 14:00\",\"s20-03-26 15:00\",\"s20-03-26 16:00\",\"s20-03-26 17:00\",\"s20-03-26 18:00\",\"s20-03-26 19:00\",\"s20-03-26 20:00\",\"s20-03-26 21:00\",\"s20-03-26 22:00\",\"s20-03-26 23:00\",\"s20-03-27 00:00\",\"s20-03-27 01:00\",\"s20-03-27 02:00\",\"s20-03-27 03:00\",\"s20-03-27 04:00\",\"s20-03-27 05:00\",\"s20-03-27 06:00\",\"s20-03-27 07:00\",\"s20-03-27 08:00\",\"s20-03-27 09:00\",\"s20-03-27 10:00\",\"s20-03-27 11:00\",\"s20-03-27 12:00\",\"s20-03-27 13:00\",\"s20-03-27 14:00\",\"s20-03-27 15:00\",\"s20-03-27 16:00\",\"s20-03-27 17:00\",\"s20-03-27 18:00\",\"s20-03-27 19:00\",\"s20-03-27 20:00\",\"s20-03-29 21:00\",\"s20-03-29 22:00\",\"s20-03-29 23:00\",\"s20-03-30 00:00\",\"s20-03-30 01:00\",\"s20-03-30 02:00\",\"s20-03-30 03:00\",\"s20-03-30 04:00\",\"s20-03-30 05:00\",\"s20-03-30 06:00\",\"s20-03-30 07:00\",\"s20-03-30 08:00\",\"s20-03-30 09:00\",\"s20-03-30 10:00\",\"s20-03-30 11:00\",\"s20-03-30 12:00\",\"s20-03-30 13:00\",\"s20-03-30 14:00\",\"s20-03-30 15:00\",\"s20-03-30 16:00\",\"s20-03-30 17:00\",\"s20-03-30 18:00\",\"s20-03-30 19:00\",\"s20-03-30 20:00\",\"s20-03-30 21:00\",\"s20-03-30 22:00\",\"s20-03-30 23:00\",\"s20-03-31 00:00\",\"s20-03-31 01:00\",\"s20-03-31 02:00\",\"s20-03-31 03:00\",\"s20-03-31 04:00\",\"s20-03-31 05:00\",\"s20-03-31 06:00\",\"s20-03-31 07:00\",\"s20-03-31 08:00\",\"s20-03-31 09:00\",\"s20-03-31 10:00\",\"s20-03-31 11:00\",\"s20-03-31 12:00\",\"s20-03-31 13:00\",\"s20-03-31 14:00\",\"s20-03-31 15:00\"],\"type\":\"candlestick\"},{\"close\":[133.091],\"decreasing\":{\"fillcolor\":\"#0066FF\",\"line\":{\"color\":\"#0066FF\"}},\"high\":[133.778],\"increasing\":{\"fillcolor\":\"#0066FF\",\"line\":{\"color\":\"#0066FF\"}},\"line\":{\"width\":1},\"low\":[133.044],\"opacity\":1,\"open\":[133.752],\"x\":[\"s20-03-26 21:00\"],\"type\":\"candlestick\"}],                        {\"template\":{\"data\":{\"histogram2dcontour\":[{\"type\":\"histogram2dcontour\",\"colorbar\":{\"outlinewidth\":0,\"ticks\":\"\"},\"colorscale\":[[0.0,\"#0d0887\"],[0.1111111111111111,\"#46039f\"],[0.2222222222222222,\"#7201a8\"],[0.3333333333333333,\"#9c179e\"],[0.4444444444444444,\"#bd3786\"],[0.5555555555555556,\"#d8576b\"],[0.6666666666666666,\"#ed7953\"],[0.7777777777777778,\"#fb9f3a\"],[0.8888888888888888,\"#fdca26\"],[1.0,\"#f0f921\"]]}],\"choropleth\":[{\"type\":\"choropleth\",\"colorbar\":{\"outlinewidth\":0,\"ticks\":\"\"}}],\"histogram2d\":[{\"type\":\"histogram2d\",\"colorbar\":{\"outlinewidth\":0,\"ticks\":\"\"},\"colorscale\":[[0.0,\"#0d0887\"],[0.1111111111111111,\"#46039f\"],[0.2222222222222222,\"#7201a8\"],[0.3333333333333333,\"#9c179e\"],[0.4444444444444444,\"#bd3786\"],[0.5555555555555556,\"#d8576b\"],[0.6666666666666666,\"#ed7953\"],[0.7777777777777778,\"#fb9f3a\"],[0.8888888888888888,\"#fdca26\"],[1.0,\"#f0f921\"]]}],\"heatmap\":[{\"type\":\"heatmap\",\"colorbar\":{\"outlinewidth\":0,\"ticks\":\"\"},\"colorscale\":[[0.0,\"#0d0887\"],[0.1111111111111111,\"#46039f\"],[0.2222222222222222,\"#7201a8\"],[0.3333333333333333,\"#9c179e\"],[0.4444444444444444,\"#bd3786\"],[0.5555555555555556,\"#d8576b\"],[0.6666666666666666,\"#ed7953\"],[0.7777777777777778,\"#fb9f3a\"],[0.8888888888888888,\"#fdca26\"],[1.0,\"#f0f921\"]]}],\"heatmapgl\":[{\"type\":\"heatmapgl\",\"colorbar\":{\"outlinewidth\":0,\"ticks\":\"\"},\"colorscale\":[[0.0,\"#0d0887\"],[0.1111111111111111,\"#46039f\"],[0.2222222222222222,\"#7201a8\"],[0.3333333333333333,\"#9c179e\"],[0.4444444444444444,\"#bd3786\"],[0.5555555555555556,\"#d8576b\"],[0.6666666666666666,\"#ed7953\"],[0.7777777777777778,\"#fb9f3a\"],[0.8888888888888888,\"#fdca26\"],[1.0,\"#f0f921\"]]}],\"contourcarpet\":[{\"type\":\"contourcarpet\",\"colorbar\":{\"outlinewidth\":0,\"ticks\":\"\"}}],\"contour\":[{\"type\":\"contour\",\"colorbar\":{\"outlinewidth\":0,\"ticks\":\"\"},\"colorscale\":[[0.0,\"#0d0887\"],[0.1111111111111111,\"#46039f\"],[0.2222222222222222,\"#7201a8\"],[0.3333333333333333,\"#9c179e\"],[0.4444444444444444,\"#bd3786\"],[0.5555555555555556,\"#d8576b\"],[0.6666666666666666,\"#ed7953\"],[0.7777777777777778,\"#fb9f3a\"],[0.8888888888888888,\"#fdca26\"],[1.0,\"#f0f921\"]]}],\"surface\":[{\"type\":\"surface\",\"colorbar\":{\"outlinewidth\":0,\"ticks\":\"\"},\"colorscale\":[[0.0,\"#0d0887\"],[0.1111111111111111,\"#46039f\"],[0.2222222222222222,\"#7201a8\"],[0.3333333333333333,\"#9c179e\"],[0.4444444444444444,\"#bd3786\"],[0.5555555555555556,\"#d8576b\"],[0.6666666666666666,\"#ed7953\"],[0.7777777777777778,\"#fb9f3a\"],[0.8888888888888888,\"#fdca26\"],[1.0,\"#f0f921\"]]}],\"mesh3d\":[{\"type\":\"mesh3d\",\"colorbar\":{\"outlinewidth\":0,\"ticks\":\"\"}}],\"scatter\":[{\"fillpattern\":{\"fillmode\":\"overlay\",\"size\":10,\"solidity\":0.2},\"type\":\"scatter\"}],\"parcoords\":[{\"type\":\"parcoords\",\"line\":{\"colorbar\":{\"outlinewidth\":0,\"ticks\":\"\"}}}],\"scatterpolargl\":[{\"type\":\"scatterpolargl\",\"marker\":{\"colorbar\":{\"outlinewidth\":0,\"ticks\":\"\"}}}],\"bar\":[{\"error_x\":{\"color\":\"#2a3f5f\"},\"error_y\":{\"color\":\"#2a3f5f\"},\"marker\":{\"line\":{\"color\":\"#E5ECF6\",\"width\":0.5},\"pattern\":{\"fillmode\":\"overlay\",\"size\":10,\"solidity\":0.2}},\"type\":\"bar\"}],\"scattergeo\":[{\"type\":\"scattergeo\",\"marker\":{\"colorbar\":{\"outlinewidth\":0,\"ticks\":\"\"}}}],\"scatterpolar\":[{\"type\":\"scatterpolar\",\"marker\":{\"colorbar\":{\"outlinewidth\":0,\"ticks\":\"\"}}}],\"histogram\":[{\"marker\":{\"pattern\":{\"fillmode\":\"overlay\",\"size\":10,\"solidity\":0.2}},\"type\":\"histogram\"}],\"scattergl\":[{\"type\":\"scattergl\",\"marker\":{\"colorbar\":{\"outlinewidth\":0,\"ticks\":\"\"}}}],\"scatter3d\":[{\"type\":\"scatter3d\",\"line\":{\"colorbar\":{\"outlinewidth\":0,\"ticks\":\"\"}},\"marker\":{\"colorbar\":{\"outlinewidth\":0,\"ticks\":\"\"}}}],\"scattermapbox\":[{\"type\":\"scattermapbox\",\"marker\":{\"colorbar\":{\"outlinewidth\":0,\"ticks\":\"\"}}}],\"scatterternary\":[{\"type\":\"scatterternary\",\"marker\":{\"colorbar\":{\"outlinewidth\":0,\"ticks\":\"\"}}}],\"scattercarpet\":[{\"type\":\"scattercarpet\",\"marker\":{\"colorbar\":{\"outlinewidth\":0,\"ticks\":\"\"}}}],\"carpet\":[{\"aaxis\":{\"endlinecolor\":\"#2a3f5f\",\"gridcolor\":\"white\",\"linecolor\":\"white\",\"minorgridcolor\":\"white\",\"startlinecolor\":\"#2a3f5f\"},\"baxis\":{\"endlinecolor\":\"#2a3f5f\",\"gridcolor\":\"white\",\"linecolor\":\"white\",\"minorgridcolor\":\"white\",\"startlinecolor\":\"#2a3f5f\"},\"type\":\"carpet\"}],\"table\":[{\"cells\":{\"fill\":{\"color\":\"#EBF0F8\"},\"line\":{\"color\":\"white\"}},\"header\":{\"fill\":{\"color\":\"#C8D4E3\"},\"line\":{\"color\":\"white\"}},\"type\":\"table\"}],\"barpolar\":[{\"marker\":{\"line\":{\"color\":\"#E5ECF6\",\"width\":0.5},\"pattern\":{\"fillmode\":\"overlay\",\"size\":10,\"solidity\":0.2}},\"type\":\"barpolar\"}],\"pie\":[{\"automargin\":true,\"type\":\"pie\"}]},\"layout\":{\"autotypenumbers\":\"strict\",\"colorway\":[\"#636efa\",\"#EF553B\",\"#00cc96\",\"#ab63fa\",\"#FFA15A\",\"#19d3f3\",\"#FF6692\",\"#B6E880\",\"#FF97FF\",\"#FECB52\"],\"font\":{\"color\":\"#2a3f5f\"},\"hovermode\":\"closest\",\"hoverlabel\":{\"align\":\"left\"},\"paper_bgcolor\":\"white\",\"plot_bgcolor\":\"#E5ECF6\",\"polar\":{\"bgcolor\":\"#E5ECF6\",\"angularaxis\":{\"gridcolor\":\"white\",\"linecolor\":\"white\",\"ticks\":\"\"},\"radialaxis\":{\"gridcolor\":\"white\",\"linecolor\":\"white\",\"ticks\":\"\"}},\"ternary\":{\"bgcolor\":\"#E5ECF6\",\"aaxis\":{\"gridcolor\":\"white\",\"linecolor\":\"white\",\"ticks\":\"\"},\"baxis\":{\"gridcolor\":\"white\",\"linecolor\":\"white\",\"ticks\":\"\"},\"caxis\":{\"gridcolor\":\"white\",\"linecolor\":\"white\",\"ticks\":\"\"}},\"coloraxis\":{\"colorbar\":{\"outlinewidth\":0,\"ticks\":\"\"}},\"colorscale\":{\"sequential\":[[0.0,\"#0d0887\"],[0.1111111111111111,\"#46039f\"],[0.2222222222222222,\"#7201a8\"],[0.3333333333333333,\"#9c179e\"],[0.4444444444444444,\"#bd3786\"],[0.5555555555555556,\"#d8576b\"],[0.6666666666666666,\"#ed7953\"],[0.7777777777777778,\"#fb9f3a\"],[0.8888888888888888,\"#fdca26\"],[1.0,\"#f0f921\"]],\"sequentialminus\":[[0.0,\"#0d0887\"],[0.1111111111111111,\"#46039f\"],[0.2222222222222222,\"#7201a8\"],[0.3333333333333333,\"#9c179e\"],[0.4444444444444444,\"#bd3786\"],[0.5555555555555556,\"#d8576b\"],[0.6666666666666666,\"#ed7953\"],[0.7777777777777778,\"#fb9f3a\"],[0.8888888888888888,\"#fdca26\"],[1.0,\"#f0f921\"]],\"diverging\":[[0,\"#8e0152\"],[0.1,\"#c51b7d\"],[0.2,\"#de77ae\"],[0.3,\"#f1b6da\"],[0.4,\"#fde0ef\"],[0.5,\"#f7f7f7\"],[0.6,\"#e6f5d0\"],[0.7,\"#b8e186\"],[0.8,\"#7fbc41\"],[0.9,\"#4d9221\"],[1,\"#276419\"]]},\"xaxis\":{\"gridcolor\":\"white\",\"linecolor\":\"white\",\"ticks\":\"\",\"title\":{\"standoff\":15},\"zerolinecolor\":\"white\",\"automargin\":true,\"zerolinewidth\":2},\"yaxis\":{\"gridcolor\":\"white\",\"linecolor\":\"white\",\"ticks\":\"\",\"title\":{\"standoff\":15},\"zerolinecolor\":\"white\",\"automargin\":true,\"zerolinewidth\":2},\"scene\":{\"xaxis\":{\"backgroundcolor\":\"#E5ECF6\",\"gridcolor\":\"white\",\"linecolor\":\"white\",\"showbackground\":true,\"ticks\":\"\",\"zerolinecolor\":\"white\",\"gridwidth\":2},\"yaxis\":{\"backgroundcolor\":\"#E5ECF6\",\"gridcolor\":\"white\",\"linecolor\":\"white\",\"showbackground\":true,\"ticks\":\"\",\"zerolinecolor\":\"white\",\"gridwidth\":2},\"zaxis\":{\"backgroundcolor\":\"#E5ECF6\",\"gridcolor\":\"white\",\"linecolor\":\"white\",\"showbackground\":true,\"ticks\":\"\",\"zerolinecolor\":\"white\",\"gridwidth\":2}},\"shapedefaults\":{\"line\":{\"color\":\"#2a3f5f\"}},\"annotationdefaults\":{\"arrowcolor\":\"#2a3f5f\",\"arrowhead\":0,\"arrowwidth\":1},\"geo\":{\"bgcolor\":\"white\",\"landcolor\":\"#E5ECF6\",\"subunitcolor\":\"white\",\"showland\":true,\"showlakes\":true,\"lakecolor\":\"white\"},\"title\":{\"x\":0.05},\"mapbox\":{\"style\":\"light\"}}},\"xaxis\":{\"anchor\":\"y\",\"domain\":[0.0,0.94],\"rangeslider\":{\"visible\":false},\"gridcolor\":\"#1f292f\",\"nticks\":5},\"yaxis\":{\"anchor\":\"x\",\"domain\":[0.0,1.0],\"gridcolor\":\"#1f292f\"},\"yaxis2\":{\"anchor\":\"x\",\"overlaying\":\"y\",\"side\":\"right\",\"gridcolor\":\"#1f292f\"},\"margin\":{\"l\":10,\"r\":10,\"b\":10,\"t\":10},\"font\":{\"size\":8,\"color\":\"#e1e1e1\"},\"width\":825,\"height\":400,\"paper_bgcolor\":\"#2c303c\",\"plot_bgcolor\":\"#2c303c\"},                        {\"responsive\": true}                    ).then(function(){\n",
       "                            \n",
       "var gd = document.getElementById('d5b8a097-716d-4d80-a712-89b4165674fd');\n",
       "var x = new MutationObserver(function (mutations, observer) {{\n",
       "        var display = window.getComputedStyle(gd).display;\n",
       "        if (!display || display === 'none') {{\n",
       "            console.log([gd, 'removed!']);\n",
       "            Plotly.purge(gd);\n",
       "            observer.disconnect();\n",
       "        }}\n",
       "}});\n",
       "\n",
       "// Listen for the removal of the full notebook cells\n",
       "var notebookContainer = gd.closest('#notebook-container');\n",
       "if (notebookContainer) {{\n",
       "    x.observe(notebookContainer, {childList: true});\n",
       "}}\n",
       "\n",
       "// Listen for the clearing of the current output cell\n",
       "var outputEl = gd.closest('.output');\n",
       "if (outputEl) {{\n",
       "    x.observe(outputEl, {childList: true});\n",
       "}}\n",
       "\n",
       "                        })                };                });            </script>        </div>"
      ]
     },
     "metadata": {},
     "output_type": "display_data"
    }
   ],
   "source": [
    "MARKER = '#0066FF'\n",
    "dfp = df_an.iloc[26200:26300]\n",
    "cp = CandlePlot(dfp, candles=True)\n",
    "df_temp = cp.df_plot[cp.df_plot.EVENING_STAR == True]\n",
    "cp.fig.add_trace(go.Candlestick(\n",
    "                x = df_temp.sTime,\n",
    "                open = df_temp.mid_o,\n",
    "                high = df_temp.mid_h,\n",
    "                low = df_temp.mid_l,\n",
    "                close = df_temp.mid_c,\n",
    "                line = dict(width=1), opacity=1,\n",
    "                increasing_fillcolor = MARKER,\n",
    "                decreasing_fillcolor = MARKER,\n",
    "                increasing_line_color = MARKER,\n",
    "                decreasing_line_color = MARKER\n",
    "            ))\n",
    "cp.fig.update_yaxes(\n",
    "            gridcolor = \"#1f292f\"\n",
    ")\n",
    "cp.fig.update_xaxes(\n",
    "    gridcolor = \"#1f292f\",\n",
    "    rangeslider = dict(visible = False),\n",
    "    nticks = 5\n",
    ")\n",
    "cp.fig.update_layout(\n",
    "    width = 825,\n",
    "    height = 400,\n",
    "    margin = dict(l=10, r=10, b=10, t=10),\n",
    "    paper_bgcolor=\"#2c303c\",\n",
    "    plot_bgcolor=\"#2c303c\",\n",
    "    font = dict(size=8, color = \"#e1e1e1\")\n",
    ")"
   ]
  },
  {
   "cell_type": "code",
   "execution_count": null,
   "id": "81fb3884-87e4-4b36-9780-507cc119b87a",
   "metadata": {},
   "outputs": [],
   "source": []
  },
  {
   "cell_type": "code",
   "execution_count": null,
   "id": "6801d3f8-05fa-4d6b-8567-bb474dd1b8da",
   "metadata": {},
   "outputs": [],
   "source": []
  }
 ],
 "metadata": {
  "kernelspec": {
   "display_name": "Python 3 (ipykernel)",
   "language": "python",
   "name": "python3"
  },
  "language_info": {
   "codemirror_mode": {
    "name": "ipython",
    "version": 3
   },
   "file_extension": ".py",
   "mimetype": "text/x-python",
   "name": "python",
   "nbconvert_exporter": "python",
   "pygments_lexer": "ipython3",
   "version": "3.11.4"
  }
 },
 "nbformat": 4,
 "nbformat_minor": 5
}
