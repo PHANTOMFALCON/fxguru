{
 "cells": [
  {
   "cell_type": "code",
   "execution_count": 71,
   "id": "6bc5a171-7726-4eee-a0b1-2e403c8e561f",
   "metadata": {},
   "outputs": [],
   "source": [
    "import requests\n",
    "import pandas as pd\n",
    "import json\n",
    "from dateutil import parser"
   ]
  },
  {
   "cell_type": "code",
   "execution_count": 12,
   "id": "d456c57f-d410-4579-ae4e-130244664a70",
   "metadata": {},
   "outputs": [],
   "source": [
    "API_KEY = \"1855f9da622fd5008d8ccee9d3cb00c7-90fc8756c93f3c9ac58184f8fb734a90\"\n",
    "ACCOUNT_ID = \"101-001-26467877-001\"\n",
    "OANDA_URL = \"https://api-fxpractice.oanda.com/v3\""
   ]
  },
  {
   "cell_type": "code",
   "execution_count": 13,
   "id": "457bf2ba-7e7d-421c-9570-cfb98e05537c",
   "metadata": {},
   "outputs": [],
   "source": [
    "session = requests.Session()"
   ]
  },
  {
   "cell_type": "code",
   "execution_count": 14,
   "id": "ec94c26d-52f4-4937-a0cc-aeea95a0627f",
   "metadata": {},
   "outputs": [],
   "source": [
    "session.headers.update({\n",
    "    \"Authorization\": f\"Bearer {API_KEY}\",\n",
    "    \"Content-Type\": \"application/json\"\n",
    "})"
   ]
  },
  {
   "cell_type": "code",
   "execution_count": 22,
   "id": "f8d7f828-2f99-4d2a-89de-36d4b5897ebf",
   "metadata": {},
   "outputs": [],
   "source": [
    "params = dict(\n",
    "    count = 10,\n",
    "    granularity = \"H1\",\n",
    "    price = \"MBA\"\n",
    ")"
   ]
  },
  {
   "cell_type": "code",
   "execution_count": 27,
   "id": "027f1354-695d-4bf0-8c2b-410579faac1f",
   "metadata": {},
   "outputs": [],
   "source": [
    "url = f\"{OANDA_URL}/accounts/{ACCOUNT_ID}/instruments\""
   ]
  },
  {
   "cell_type": "code",
   "execution_count": 28,
   "id": "eb1d789d-bd11-407c-ac7e-f7fe03ad0c09",
   "metadata": {},
   "outputs": [],
   "source": [
    "response = session.get(url, params = None, data = None, headers = None)"
   ]
  },
  {
   "cell_type": "code",
   "execution_count": 29,
   "id": "35607636-cb80-4009-b76e-1d0b05ab51f4",
   "metadata": {},
   "outputs": [
    {
     "data": {
      "text/plain": [
       "200"
      ]
     },
     "execution_count": 29,
     "metadata": {},
     "output_type": "execute_result"
    }
   ],
   "source": [
    "response.status_code"
   ]
  },
  {
   "cell_type": "code",
   "execution_count": 30,
   "id": "2faa8337-4033-4cc2-810c-b64e8bee97cd",
   "metadata": {},
   "outputs": [],
   "source": [
    "data = response.json()"
   ]
  },
  {
   "cell_type": "code",
   "execution_count": 33,
   "id": "6bc4438b-d2d8-4fea-8786-e3a3058af07c",
   "metadata": {},
   "outputs": [],
   "source": [
    "instruments_list = data['instruments']"
   ]
  },
  {
   "cell_type": "code",
   "execution_count": 34,
   "id": "f808b9f9-9a83-49d5-b39c-82584678ac43",
   "metadata": {},
   "outputs": [
    {
     "data": {
      "text/plain": [
       "68"
      ]
     },
     "execution_count": 34,
     "metadata": {},
     "output_type": "execute_result"
    }
   ],
   "source": [
    "len(instruments_list)"
   ]
  },
  {
   "cell_type": "code",
   "execution_count": 37,
   "id": "4211aa85-4598-4794-b659-2260468248b0",
   "metadata": {},
   "outputs": [
    {
     "data": {
      "text/plain": [
       "dict_keys(['name', 'type', 'displayName', 'pipLocation', 'displayPrecision', 'tradeUnitsPrecision', 'minimumTradeSize', 'maximumTrailingStopDistance', 'minimumTrailingStopDistance', 'maximumPositionSize', 'maximumOrderUnits', 'marginRate', 'guaranteedStopLossOrderMode', 'tags', 'financing'])"
      ]
     },
     "execution_count": 37,
     "metadata": {},
     "output_type": "execute_result"
    }
   ],
   "source": [
    "instruments_list[0].keys()"
   ]
  },
  {
   "cell_type": "code",
   "execution_count": 39,
   "id": "4288ec0e-0b88-42ca-af04-8c327239212a",
   "metadata": {},
   "outputs": [],
   "source": [
    "key_i = ['name', 'type', 'displayName', 'pipLocation', \n",
    "         'displayPrecision', 'tradeUnitsPrecision', 'marginRate']"
   ]
  },
  {
   "cell_type": "code",
   "execution_count": 46,
   "id": "4d4e6ec5-f0dd-49ec-a141-1b859768ae35",
   "metadata": {},
   "outputs": [],
   "source": [
    "instruments_dict = {}\n",
    "for i in instruments_list:\n",
    "    key = i['name']\n",
    "    instruments_dict[key] = {k: i[k] for k in key_i}"
   ]
  },
  {
   "cell_type": "code",
   "execution_count": 48,
   "id": "0282d1a7-6d5b-459b-9ec7-6a85ff03b196",
   "metadata": {},
   "outputs": [
    {
     "data": {
      "text/plain": [
       "{'name': 'USD_CAD',\n",
       " 'type': 'CURRENCY',\n",
       " 'displayName': 'USD/CAD',\n",
       " 'pipLocation': -4,\n",
       " 'displayPrecision': 5,\n",
       " 'tradeUnitsPrecision': 0,\n",
       " 'marginRate': '0.02'}"
      ]
     },
     "execution_count": 48,
     "metadata": {},
     "output_type": "execute_result"
    }
   ],
   "source": [
    "instruments_dict['USD_CAD']"
   ]
  },
  {
   "cell_type": "code",
   "execution_count": 49,
   "id": "1730c9be-c45b-4d4e-ac44-1fdc7ecc34ae",
   "metadata": {},
   "outputs": [],
   "source": [
    "with open(\"../data/instruments.json\", \"w\") as f:\n",
    "    f.write(json.dumps(instruments_dict, indent = 2))"
   ]
  },
  {
   "cell_type": "code",
   "execution_count": 106,
   "id": "37f7c9ad-122b-40f5-87a9-faa4ba4d7c26",
   "metadata": {},
   "outputs": [],
   "source": [
    "#Function which actually fetches the candle data from OANDA API\n",
    "def fetch_candles(pair_name, count = 10, granularity = \"H1\"):\n",
    "    url = f\"{OANDA_URL}/instruments/{pair_name}/candles\"\n",
    "    params = dict(\n",
    "        count = count,\n",
    "        granularity = granularity,\n",
    "        price = \"MBA\"\n",
    "    )\n",
    "    response = session.get(url, params = params, data = None, headers = None)\n",
    "    data = response.json()\n",
    "\n",
    "    if response.status_code == 200:\n",
    "        if 'candles' not in data:\n",
    "            data = []\n",
    "        else:\n",
    "            data = data['candles']\n",
    "    return response.status_code, data\n",
    "#Function which gets candle data and converts it to a dataframe\n",
    "def get_candles_df(data):\n",
    "    if len(data) == 0:\n",
    "        return pd.DataFrame()\n",
    "\n",
    "    prices = ['mid', 'bid', 'ask']\n",
    "    ohlc = ['o', 'h', 'l', 'c']\n",
    "    #mid_c, mid_o, bid_h, etc..\n",
    "    final_data = []\n",
    "    for candle in data:\n",
    "        if candle['complete'] == False:\n",
    "            continue\n",
    "        new_dict = {}\n",
    "        new_dict['time'] = parser.parse(candle['time'])\n",
    "        new_dict['volume'] = candle['volume']\n",
    "        for p in prices:\n",
    "            for o in ohlc:\n",
    "                new_dict[f\"{p}_{o}\"] = float(candle[p][o])\n",
    "        final_data.append(new_dict)\n",
    "    df = pd.DataFrame.from_dict(final_data)\n",
    "    return df\n",
    "#Function to save the file of Candle Data\n",
    "def create_data_file(pair_name, count = 10, granularity = \"H1\"):\n",
    "    code, data = fetch_candles(pair_name, count, granularity)\n",
    "    if code != 200:\n",
    "        print(\"Failed\", pair_name, data)\n",
    "        return\n",
    "    if len(data) == 0:\n",
    "        print(\"No Candles\", pair_name)\n",
    "    candles_df = get_candles_df(data)\n",
    "    candles_df.to_pickle(f\"../data/{pair_name}_{granularity}.pk1\")\n",
    "    print(f\"{pair_name} {granularity} {candles_df.shape[0]} candles, {candles_df.time.min()} {candles_df.time.max()}\")"
   ]
  },
  {
   "cell_type": "code",
   "execution_count": 108,
   "id": "a501ea20-283c-412e-8490-1b5e9d23006d",
   "metadata": {},
   "outputs": [],
   "source": [
    "code, data = fetch_candles(\"EUR_USD\", count=10, granularity = \"H4\")\n",
    "candles_df = get_candles_df(data)"
   ]
  },
  {
   "cell_type": "code",
   "execution_count": 109,
   "id": "61dad44b-4632-41f0-ad34-2b9bb0d63376",
   "metadata": {},
   "outputs": [
    {
     "name": "stdout",
     "output_type": "stream",
     "text": [
      "EUR_USD H4 10 candles, 2023-07-27 05:00:00+00:00 2023-07-28 17:00:00+00:00\n"
     ]
    }
   ],
   "source": [
    "create_data_file(\"EUR_USD\", count=10, granularity = \"H4\")"
   ]
  },
  {
   "cell_type": "code",
   "execution_count": 112,
   "id": "ce816730-2b1c-4cda-ab87-6fe081aebf97",
   "metadata": {},
   "outputs": [],
   "source": [
    "our_curr = ['EUR', 'USD', 'GBP', 'JPY', 'CHF', 'NZD', 'CAD', 'AUD']"
   ]
  },
  {
   "cell_type": "code",
   "execution_count": 117,
   "id": "c7ba6a73-71d5-4dc7-985c-8b017fad9611",
   "metadata": {},
   "outputs": [
    {
     "name": "stdout",
     "output_type": "stream",
     "text": [
      "EUR_USD H1 4000 candles, 2022-12-07 05:00:00+00:00 2023-07-28 20:00:00+00:00\n",
      "EUR_USD H4 4000 candles, 2021-01-06 06:00:00+00:00 2023-07-28 17:00:00+00:00\n",
      "EUR_GBP H1 4000 candles, 2022-12-07 05:00:00+00:00 2023-07-28 20:00:00+00:00\n",
      "EUR_GBP H4 4000 candles, 2021-01-06 06:00:00+00:00 2023-07-28 17:00:00+00:00\n",
      "EUR_JPY H1 4000 candles, 2022-12-07 05:00:00+00:00 2023-07-28 20:00:00+00:00\n",
      "EUR_JPY H4 4000 candles, 2021-01-05 22:00:00+00:00 2023-07-28 17:00:00+00:00\n",
      "EUR_CHF H1 4000 candles, 2022-12-07 05:00:00+00:00 2023-07-28 20:00:00+00:00\n",
      "EUR_CHF H4 4000 candles, 2021-01-06 06:00:00+00:00 2023-07-28 17:00:00+00:00\n",
      "EUR_NZD H1 4000 candles, 2022-12-07 05:00:00+00:00 2023-07-28 20:00:00+00:00\n",
      "EUR_NZD H4 4000 candles, 2021-01-06 06:00:00+00:00 2023-07-28 17:00:00+00:00\n",
      "EUR_CAD H1 4000 candles, 2022-12-07 05:00:00+00:00 2023-07-28 20:00:00+00:00\n",
      "EUR_CAD H4 4000 candles, 2021-01-06 06:00:00+00:00 2023-07-28 17:00:00+00:00\n",
      "EUR_AUD H1 4000 candles, 2022-12-07 04:00:00+00:00 2023-07-28 20:00:00+00:00\n",
      "EUR_AUD H4 4000 candles, 2021-01-06 06:00:00+00:00 2023-07-28 17:00:00+00:00\n",
      "USD_JPY H1 4000 candles, 2022-12-07 05:00:00+00:00 2023-07-28 20:00:00+00:00\n",
      "USD_JPY H4 4000 candles, 2021-01-06 06:00:00+00:00 2023-07-28 17:00:00+00:00\n",
      "USD_CHF H1 4000 candles, 2022-12-07 05:00:00+00:00 2023-07-28 20:00:00+00:00\n",
      "USD_CHF H4 4000 candles, 2021-01-06 06:00:00+00:00 2023-07-28 17:00:00+00:00\n",
      "USD_CAD H1 4000 candles, 2022-12-07 05:00:00+00:00 2023-07-28 20:00:00+00:00\n",
      "USD_CAD H4 4000 candles, 2021-01-06 06:00:00+00:00 2023-07-28 17:00:00+00:00\n",
      "GBP_USD H1 4000 candles, 2022-12-07 05:00:00+00:00 2023-07-28 20:00:00+00:00\n",
      "GBP_USD H4 4000 candles, 2021-01-06 06:00:00+00:00 2023-07-28 17:00:00+00:00\n",
      "GBP_JPY H1 4000 candles, 2022-12-07 05:00:00+00:00 2023-07-28 20:00:00+00:00\n",
      "GBP_JPY H4 4000 candles, 2021-01-06 06:00:00+00:00 2023-07-28 17:00:00+00:00\n",
      "GBP_CHF H1 4000 candles, 2022-12-07 05:00:00+00:00 2023-07-28 20:00:00+00:00\n",
      "GBP_CHF H4 4000 candles, 2021-01-06 06:00:00+00:00 2023-07-28 17:00:00+00:00\n",
      "GBP_NZD H1 4000 candles, 2022-12-07 05:00:00+00:00 2023-07-28 20:00:00+00:00\n",
      "GBP_NZD H4 4000 candles, 2021-01-06 06:00:00+00:00 2023-07-28 17:00:00+00:00\n",
      "GBP_CAD H1 4000 candles, 2022-12-07 05:00:00+00:00 2023-07-28 20:00:00+00:00\n",
      "GBP_CAD H4 4000 candles, 2021-01-06 06:00:00+00:00 2023-07-28 17:00:00+00:00\n",
      "GBP_AUD H1 4000 candles, 2022-12-07 01:00:00+00:00 2023-07-28 20:00:00+00:00\n",
      "GBP_AUD H4 4000 candles, 2021-01-06 06:00:00+00:00 2023-07-28 17:00:00+00:00\n",
      "CHF_JPY H1 4000 candles, 2022-12-07 05:00:00+00:00 2023-07-28 20:00:00+00:00\n",
      "CHF_JPY H4 4000 candles, 2021-01-06 06:00:00+00:00 2023-07-28 17:00:00+00:00\n",
      "NZD_USD H1 4000 candles, 2022-12-07 08:00:00+00:00 2023-07-28 20:00:00+00:00\n",
      "NZD_USD H4 4000 candles, 2021-01-06 14:00:00+00:00 2023-07-28 17:00:00+00:00\n",
      "NZD_JPY H1 4000 candles, 2022-12-07 05:00:00+00:00 2023-07-28 20:00:00+00:00\n",
      "NZD_JPY H4 4000 candles, 2021-01-06 06:00:00+00:00 2023-07-28 17:00:00+00:00\n",
      "NZD_CHF H1 4000 candles, 2022-12-07 03:00:00+00:00 2023-07-28 20:00:00+00:00\n",
      "NZD_CHF H4 4000 candles, 2021-01-06 02:00:00+00:00 2023-07-28 17:00:00+00:00\n",
      "NZD_CAD H1 4000 candles, 2022-12-07 05:00:00+00:00 2023-07-28 20:00:00+00:00\n",
      "NZD_CAD H4 4000 candles, 2021-01-06 06:00:00+00:00 2023-07-28 17:00:00+00:00\n",
      "CAD_JPY H1 4000 candles, 2022-12-07 05:00:00+00:00 2023-07-28 20:00:00+00:00\n",
      "CAD_JPY H4 4000 candles, 2021-01-06 06:00:00+00:00 2023-07-28 17:00:00+00:00\n",
      "CAD_CHF H1 4000 candles, 2022-12-07 04:00:00+00:00 2023-07-28 20:00:00+00:00\n",
      "CAD_CHF H4 4000 candles, 2021-01-06 06:00:00+00:00 2023-07-28 17:00:00+00:00\n",
      "AUD_USD H1 4000 candles, 2022-12-07 05:00:00+00:00 2023-07-28 20:00:00+00:00\n",
      "AUD_USD H4 4000 candles, 2021-01-06 06:00:00+00:00 2023-07-28 17:00:00+00:00\n",
      "AUD_JPY H1 4000 candles, 2022-12-07 05:00:00+00:00 2023-07-28 20:00:00+00:00\n",
      "AUD_JPY H4 4000 candles, 2021-01-07 06:00:00+00:00 2023-07-28 17:00:00+00:00\n",
      "AUD_CHF H1 4000 candles, 2022-12-07 04:00:00+00:00 2023-07-28 20:00:00+00:00\n",
      "AUD_CHF H4 4000 candles, 2021-01-06 02:00:00+00:00 2023-07-28 17:00:00+00:00\n",
      "AUD_NZD H1 4000 candles, 2022-12-07 05:00:00+00:00 2023-07-28 20:00:00+00:00\n",
      "AUD_NZD H4 4000 candles, 2021-01-06 02:00:00+00:00 2023-07-28 17:00:00+00:00\n",
      "AUD_CAD H1 4000 candles, 2022-12-07 05:00:00+00:00 2023-07-28 20:00:00+00:00\n",
      "AUD_CAD H4 4000 candles, 2021-01-06 06:00:00+00:00 2023-07-28 17:00:00+00:00\n"
     ]
    }
   ],
   "source": [
    "#Looping through all pairs of currencies in our_curr\n",
    "for p1 in our_curr:\n",
    "    for p2 in our_curr:\n",
    "        pr = f\"{p1}_{p2}\"\n",
    "        if pr in instruments_dict:\n",
    "            for g in [\"H1\", \"H4\"]:\n",
    "                create_data_file(pr, count=4000, granularity=g)"
   ]
  },
  {
   "cell_type": "code",
   "execution_count": null,
   "id": "6f7525a2-ef62-4026-b9cd-1f95ef025249",
   "metadata": {},
   "outputs": [],
   "source": []
  },
  {
   "cell_type": "code",
   "execution_count": null,
   "id": "32e10792-8390-4c3a-b9cf-766dbc6e9657",
   "metadata": {},
   "outputs": [],
   "source": []
  },
  {
   "cell_type": "code",
   "execution_count": null,
   "id": "bc68064a-8f0c-4a78-974e-b5c3953dd41f",
   "metadata": {},
   "outputs": [],
   "source": []
  },
  {
   "cell_type": "code",
   "execution_count": null,
   "id": "dc0efcdd-5be3-40f5-aeb2-4b19c3eae0eb",
   "metadata": {},
   "outputs": [],
   "source": []
  },
  {
   "cell_type": "code",
   "execution_count": null,
   "id": "13aabf69-d56f-4145-8a99-f4bda8527ba1",
   "metadata": {},
   "outputs": [],
   "source": []
  },
  {
   "cell_type": "code",
   "execution_count": null,
   "id": "d564dca5-1f2d-4deb-abc2-f92fd228d185",
   "metadata": {},
   "outputs": [],
   "source": []
  },
  {
   "cell_type": "code",
   "execution_count": null,
   "id": "78d4668e-f54a-486e-a5bf-cc8a482824ed",
   "metadata": {},
   "outputs": [],
   "source": []
  },
  {
   "cell_type": "code",
   "execution_count": null,
   "id": "833ac946-c321-481d-8586-c6048e634e7e",
   "metadata": {},
   "outputs": [],
   "source": []
  },
  {
   "cell_type": "code",
   "execution_count": null,
   "id": "345250ba-6ff7-4ac8-abbc-ec93fc8e740f",
   "metadata": {},
   "outputs": [],
   "source": []
  }
 ],
 "metadata": {
  "kernelspec": {
   "display_name": "Python 3 (ipykernel)",
   "language": "python",
   "name": "python3"
  },
  "language_info": {
   "codemirror_mode": {
    "name": "ipython",
    "version": 3
   },
   "file_extension": ".py",
   "mimetype": "text/x-python",
   "name": "python",
   "nbconvert_exporter": "python",
   "pygments_lexer": "ipython3",
   "version": "3.11.4"
  }
 },
 "nbformat": 4,
 "nbformat_minor": 5
}
